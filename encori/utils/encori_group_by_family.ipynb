{
 "nbformat": 4,
 "nbformat_minor": 2,
 "metadata": {
  "language_info": {
   "name": "python",
   "codemirror_mode": {
    "name": "ipython",
    "version": 3
   },
   "version": "3.7.3-final"
  },
  "orig_nbformat": 2,
  "file_extension": ".py",
  "mimetype": "text/x-python",
  "name": "python",
  "npconvert_exporter": "python",
  "pygments_lexer": "ipython3",
  "version": 3,
  "kernelspec": {
   "name": "python37364bit4f4e3de4c0bc406a84fd1166ab4c62c7",
   "display_name": "Python 3.7.3 64-bit"
  }
 },
 "cells": [
  {
   "cell_type": "code",
   "execution_count": 1,
   "metadata": {},
   "outputs": [
    {
     "name": "stdout",
     "output_type": "stream",
     "text": "Using matplotlib backend: Qt5Agg\n"
    }
   ],
   "source": [
    "# import packages\n",
    "\n",
    "import pandas as pd\n",
    "import collections\n",
    "from matplotlib import pyplot\n",
    "%matplotlib"
   ]
  },
  {
   "cell_type": "code",
   "execution_count": 2,
   "metadata": {},
   "outputs": [],
   "source": [
    "# paramenters\n",
    "\n",
    "target_scan_species = 9606"
   ]
  },
  {
   "cell_type": "code",
   "execution_count": 3,
   "metadata": {},
   "outputs": [],
   "source": [
    "# load target tables\n",
    "\n",
    "target_scan = pd.read_csv('../data/TargetScan.7.2v.miR_Family_info.txt', sep='\\t')\n",
    "encori = pd.read_csv('../data/ENCORI_hg19_all.txt', sep='\\t', comment='#')\n",
    "\n",
    "target_scan = target_scan[target_scan['Species ID'] == target_scan_species]"
   ]
  },
  {
   "cell_type": "code",
   "execution_count": 4,
   "metadata": {},
   "outputs": [],
   "source": [
    "# create dictionary of key:value as miR_Family:one random representative miR\n",
    "\n",
    "miRNAid_dict = collections.defaultdict()\n",
    "family_repr = collections.defaultdict()\n",
    "\n",
    "for family, group in target_scan.groupby('miR family'):\n",
    "    for miRNAid in group[\"MiRBase Accession\"].tolist():\n",
    "        miRNAid_dict[miRNAid] = family\n",
    "    family_repr[family] = group[[\"MiRBase Accession\", \"MiRBase ID\"] ].sample(n=1, random_state=1989).values.tolist()[0]"
   ]
  },
  {
   "cell_type": "code",
   "execution_count": 5,
   "metadata": {},
   "outputs": [
    {
     "data": {
      "text/plain": "['MIMAT0000097', 'hsa-miR-99a-5p']"
     },
     "execution_count": 5,
     "metadata": {},
     "output_type": "execute_result"
    }
   ],
   "source": [
    "t = group[[\"MiRBase Accession\", \"MiRBase ID\"] ].sample(n=1, random_state=1989).values.tolist()[0]\n",
    "t"
   ]
  },
  {
   "cell_type": "code",
   "execution_count": 6,
   "metadata": {},
   "outputs": [],
   "source": [
    "# replace miRNAid in ENCORI df\n",
    "\n",
    "drop_row = []\n",
    "for miRNAid, group in encori.groupby('miRNAid'):\n",
    "    row_indexer = group.index\n",
    "    try:\n",
    "        family = miRNAid_dict[miRNAid]\n",
    "        #miRNAid_family_repr, MiRBase_family_repr = *family_repr[family]\n",
    "        encori.iloc[row_indexer, [0, 1]] = family_repr[family][0], family_repr[family][1]\n",
    "\n",
    "    except KeyError:\n",
    "        drop_row += row_indexer.tolist()\n"
   ]
  },
  {
   "cell_type": "code",
   "execution_count": 7,
   "metadata": {},
   "outputs": [
    {
     "name": "stdout",
     "output_type": "stream",
     "text": "original encori shape (2055403, 22)\ndrop rows 18124\nafter drop encori shape (2037279, 22)\n"
    }
   ],
   "source": [
    "# drop index with no family match\n",
    "print('original encori shape', encori.shape)\n",
    "encori.drop(index=drop_row, inplace=True)\n",
    "print('drop rows', len(drop_row) )\n",
    "print('after drop encori shape', encori.shape)"
   ]
  },
  {
   "cell_type": "code",
   "execution_count": 8,
   "metadata": {},
   "outputs": [],
   "source": [
    "# save updated encori table\n",
    "\n",
    "encori.to_csv('encori_unique_mirfamily.tsv', sep='\\t', index=False, header=True)"
   ]
  },
  {
   "cell_type": "code",
   "execution_count": 15,
   "metadata": {},
   "outputs": [],
   "source": [
    "# save train test split\n",
    "train_df = encori[encori.chromosome != \"chr1\"]\n",
    "test_df = encori[encori.chromosome == \"chr1\"]"
   ]
  },
  {
   "cell_type": "code",
   "execution_count": 16,
   "metadata": {},
   "outputs": [],
   "source": [
    "train_df.to_csv('encori_train_unique_mirfamily.tsv', sep='\\t', index=False, header=True)\n",
    "test_df.to_csv('encori_test_unique_mirfamily.tsv', sep='\\t', index=False, header=True)"
   ]
  },
  {
   "cell_type": "code",
   "execution_count": null,
   "metadata": {},
   "outputs": [],
   "source": []
  }
 ]
}