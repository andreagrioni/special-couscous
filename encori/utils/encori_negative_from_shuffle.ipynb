{
 "nbformat": 4,
 "nbformat_minor": 2,
 "metadata": {
  "language_info": {
   "name": "python",
   "codemirror_mode": {
    "name": "ipython",
    "version": 3
   },
   "version": "3.7.4-final"
  },
  "orig_nbformat": 2,
  "file_extension": ".py",
  "mimetype": "text/x-python",
  "name": "python",
  "npconvert_exporter": "python",
  "pygments_lexer": "ipython3",
  "version": 3,
  "kernelspec": {
   "name": "python37464bitbaseconda5a6f00b54d5d4f08951b2193b40543e4",
   "display_name": "Python 3.7.4 64-bit ('base': conda)"
  }
 },
 "cells": [
  {
   "cell_type": "code",
   "execution_count": 1,
   "metadata": {},
   "outputs": [],
   "source": [
    "import pandas as pd\n",
    "\n",
    "table_path = \"~/loft/paper_data/tables/enc02.tsv\"\n",
    "iter_negative = 3 # set how many times shuffling input table"
   ]
  },
  {
   "cell_type": "code",
   "execution_count": 2,
   "metadata": {},
   "outputs": [],
   "source": [
    "df = pd.read_csv(table_path, sep=\"\\t\")\n",
    "wd = df[[\"binding_sequence\", \"mirna_binding_sequence\", \"label\"]].copy()"
   ]
  },
  {
   "cell_type": "code",
   "execution_count": 3,
   "metadata": {},
   "outputs": [],
   "source": [
    "\n",
    "def negative_trigger(wd, label):\n",
    "    \"\"\"\n",
    "    function shuffle miRNA of input table\n",
    "    to create a negative connection class.\n",
    "    It returns a pandas df.\n",
    "\n",
    "\n",
    "    paramenters:\n",
    "    wd=input pandas df\n",
    "    label=category\n",
    "    \"\"\"\n",
    "    negatives_shuffling = list()\n",
    "\n",
    "    for name, group in wd.groupby(by=['mirna_binding_sequence']):\n",
    "        y = group.copy().reset_index(drop=True)\n",
    "        \n",
    "        group_index = group.index.tolist()\n",
    "        x = wd.copy().drop(group_index)\n",
    "        new_mirna = x.mirna_binding_sequence.sample(\n",
    "            n=group.shape[0], replace=True, random_state=1989,\n",
    "            ).reset_index(\n",
    "                drop=True\n",
    "                )\n",
    "        y.mirna_binding_sequence = new_mirna\n",
    "        y.label = label\n",
    "        negatives_shuffling.append(y)\n",
    "    return negatives_shuffling"
   ]
  },
  {
   "cell_type": "code",
   "execution_count": 4,
   "metadata": {},
   "outputs": [],
   "source": [
    "negative_df = list()\n",
    "\n",
    "for i in range(0, iter_negative):\n",
    "    negative_df += negative_trigger(wd, 'negative')\n",
    "\n",
    "concat_tables = pd.concat(negative_df)"
   ]
  },
  {
   "cell_type": "code",
   "execution_count": 5,
   "metadata": {},
   "outputs": [],
   "source": [
    "concat_tables.to_csv(\"/home/grioni_andrea/loft/paper_data/tables/enc03.tsv\", index=False, sep=\"\\t\")"
   ]
  },
  {
   "cell_type": "code",
   "execution_count": null,
   "metadata": {},
   "outputs": [],
   "source": []
  }
 ]
}